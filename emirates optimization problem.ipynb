{
 "cells": [
  {
   "cell_type": "code",
   "execution_count": 1,
   "id": "4200b8ac",
   "metadata": {},
   "outputs": [],
   "source": [
    "from docplex.mp.model import Model"
   ]
  },
  {
   "cell_type": "code",
   "execution_count": 2,
   "id": "96cc789f",
   "metadata": {},
   "outputs": [],
   "source": [
    "n = Model(name='emirates case option 2')"
   ]
  },
  {
   "cell_type": "code",
   "execution_count": 3,
   "id": "47d6e6fa",
   "metadata": {},
   "outputs": [],
   "source": [
    "medium=n.continuous_var(name='medium')\n",
    "luxury=n.continuous_var(name='luxury')"
   ]
  },
  {
   "cell_type": "code",
   "execution_count": 4,
   "id": "4f8ceb10",
   "metadata": {},
   "outputs": [],
   "source": [
    "medium_profit = 5050\n",
    "luxury_profit = 7650"
   ]
  },
  {
   "cell_type": "code",
   "execution_count": 5,
   "id": "09c8030e",
   "metadata": {},
   "outputs": [],
   "source": [
    "medium_crew = 51\n",
    "luxury_crew = 68"
   ]
  },
  {
   "cell_type": "code",
   "execution_count": 6,
   "id": "4ccb1061",
   "metadata": {},
   "outputs": [],
   "source": [
    "medium_pilot=20\n",
    "luxury_pilot=35"
   ]
  },
  {
   "cell_type": "code",
   "execution_count": 7,
   "id": "bd3337c4",
   "metadata": {},
   "outputs": [],
   "source": [
    "medium_fuel=168300\n",
    "luxury_fuel=258000"
   ]
  },
  {
   "cell_type": "code",
   "execution_count": 8,
   "id": "6b3e1388",
   "metadata": {},
   "outputs": [],
   "source": [
    "medium_con = n.add_constraint(medium <= 24)"
   ]
  },
  {
   "cell_type": "code",
   "execution_count": 9,
   "id": "131b65b1",
   "metadata": {},
   "outputs": [],
   "source": [
    "lux_con = n.add_constraint(luxury <=20)"
   ]
  },
  {
   "cell_type": "code",
   "execution_count": 10,
   "id": "514db40f",
   "metadata": {},
   "outputs": [],
   "source": [
    "fuel_con = n.add_constraint(n.sum([medium * medium_fuel + luxury * luxury_fuel])<=7800000)"
   ]
  },
  {
   "cell_type": "code",
   "execution_count": 11,
   "id": "e16b3820",
   "metadata": {},
   "outputs": [],
   "source": [
    "crew_con = n.add_constraint(n.sum([medium * medium_crew + luxury * luxury_crew])<=2200)"
   ]
  },
  {
   "cell_type": "code",
   "execution_count": 12,
   "id": "e2f5cf9b",
   "metadata": {},
   "outputs": [],
   "source": [
    "pilot_con = n.add_constraint(n.sum([medium*medium_pilot + luxury * luxury_pilot])<=865)"
   ]
  },
  {
   "cell_type": "code",
   "execution_count": 13,
   "id": "a84f5aa2",
   "metadata": {},
   "outputs": [],
   "source": [
    "n.maximize(medium*medium_profit+luxury*luxury_profit)"
   ]
  },
  {
   "cell_type": "code",
   "execution_count": 14,
   "id": "47eb42a7",
   "metadata": {},
   "outputs": [],
   "source": [
    "sol = n.solve()"
   ]
  },
  {
   "cell_type": "code",
   "execution_count": 15,
   "id": "381c930d",
   "metadata": {},
   "outputs": [
    {
     "name": "stdout",
     "output_type": "stream",
     "text": [
      "solution for: emirates case option 2\n",
      "objective: 205350.000\n",
      "status: OPTIMAL_SOLUTION(2)\n",
      "medium = 24.000\n",
      "luxury = 11.000\n"
     ]
    }
   ],
   "source": [
    "sol.display()"
   ]
  },
  {
   "cell_type": "code",
   "execution_count": 30,
   "id": "108041e2",
   "metadata": {},
   "outputs": [
    {
     "name": "stdout",
     "output_type": "stream",
     "text": [
      "Model: emirates case option 2\n",
      " - number of variables: 2\n",
      "   - binary=0, integer=0, continuous=2\n",
      " - number of constraints: 5\n",
      "   - linear=5\n",
      " - parameters: defaults\n",
      " - objective: maximize\n",
      " - problem type is: LP\n"
     ]
    }
   ],
   "source": [
    "n.print_information()"
   ]
  },
  {
   "cell_type": "code",
   "execution_count": 31,
   "id": "5e3942ae",
   "metadata": {},
   "outputs": [
    {
     "name": "stdout",
     "output_type": "stream",
     "text": [
      "objective: 205350.000\n",
      "status: OPTIMAL_SOLUTION(2)\n",
      "  medium=24.000\n",
      "  luxury=11.000\n"
     ]
    }
   ],
   "source": [
    "n.print_solution()"
   ]
  },
  {
   "cell_type": "code",
   "execution_count": 32,
   "id": "1c719f95",
   "metadata": {},
   "outputs": [
    {
     "data": {
      "text/plain": [
       "922800.0000000005"
      ]
     },
     "execution_count": 32,
     "metadata": {},
     "output_type": "execute_result"
    }
   ],
   "source": [
    "fuel_con.slack_value"
   ]
  },
  {
   "cell_type": "code",
   "execution_count": 33,
   "id": "dbb6a6bd",
   "metadata": {},
   "outputs": [
    {
     "data": {
      "text/plain": [
       "0"
      ]
     },
     "execution_count": 33,
     "metadata": {},
     "output_type": "execute_result"
    }
   ],
   "source": [
    "pilot_con.slack_value"
   ]
  },
  {
   "cell_type": "code",
   "execution_count": 34,
   "id": "8b568735",
   "metadata": {},
   "outputs": [
    {
     "data": {
      "text/plain": [
       "228.0000000000001"
      ]
     },
     "execution_count": 34,
     "metadata": {},
     "output_type": "execute_result"
    }
   ],
   "source": [
    "crew_con.slack_value"
   ]
  },
  {
   "cell_type": "code",
   "execution_count": null,
   "id": "90e57475",
   "metadata": {},
   "outputs": [],
   "source": []
  }
 ],
 "metadata": {
  "kernelspec": {
   "display_name": "Python 3 (ipykernel)",
   "language": "python",
   "name": "python3"
  },
  "language_info": {
   "codemirror_mode": {
    "name": "ipython",
    "version": 3
   },
   "file_extension": ".py",
   "mimetype": "text/x-python",
   "name": "python",
   "nbconvert_exporter": "python",
   "pygments_lexer": "ipython3",
   "version": "3.9.12"
  }
 },
 "nbformat": 4,
 "nbformat_minor": 5
}
